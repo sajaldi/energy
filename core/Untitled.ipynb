{
 "cells": [
  {
   "cell_type": "code",
   "execution_count": 1,
   "id": "a305e5d2-60df-46db-93a4-ba167a24c1d3",
   "metadata": {},
   "outputs": [
    {
     "name": "stdout",
     "output_type": "stream",
     "text": [
      "Requirement already satisfied: psycopg2-binary in c:\\users\\saul\\appdata\\local\\programs\\python\\python313\\lib\\site-packages (2.9.10)\n",
      "Requirement already satisfied: sqlalchemy in c:\\users\\saul\\appdata\\local\\programs\\python\\python313\\lib\\site-packages (2.0.40)\n",
      "Requirement already satisfied: greenlet>=1 in c:\\users\\saul\\appdata\\local\\programs\\python\\python313\\lib\\site-packages (from sqlalchemy) (3.2.1)\n",
      "Requirement already satisfied: typing-extensions>=4.6.0 in c:\\users\\saul\\appdata\\local\\programs\\python\\python313\\lib\\site-packages (from sqlalchemy) (4.12.2)\n"
     ]
    },
    {
     "name": "stderr",
     "output_type": "stream",
     "text": [
      "\n",
      "[notice] A new release of pip is available: 25.0.1 -> 25.1.1\n",
      "[notice] To update, run: python.exe -m pip install --upgrade pip\n"
     ]
    }
   ],
   "source": [
    "!pip install psycopg2-binary sqlalchemy\n"
   ]
  },
  {
   "cell_type": "code",
   "execution_count": 2,
   "id": "14b64d0f-b6b9-4dc1-a368-0a892dd11243",
   "metadata": {},
   "outputs": [
    {
     "name": "stdout",
     "output_type": "stream",
     "text": [
      "[('auth_user_user_permissions',), ('consumo_puntual',), ('core_categoriapuntomedicion',), ('core_equipo',), ('core_tipomedidor',), ('core_caracteristicamedicion',), ('auth_group',), ('auth_user_groups',), ('auth_user',), ('core_medidor',), ('core_consumo',), ('core_puntomedicion',), ('core_documentomedicion',), ('core_ubicaciontecnica',), ('core_rangomedicion',), ('django_migrations',), ('django_session',), ('django_content_type',), ('django_admin_log',), ('interface_core_consumo',), ('auth_permission',), ('auth_group_permissions',)]\n"
     ]
    }
   ],
   "source": [
    "import psycopg2\n",
    "\n",
    "# Datos de conexión\n",
    "host = 'localhost'  # Ejemplo: 'localhost' o la IP del servidor\n",
    "dbname = 'db'\n",
    "user = 'postgres'\n",
    "password = ''\n",
    "\n",
    "# Establecer la conexión\n",
    "connection = psycopg2.connect(\n",
    "    host=host,\n",
    "    dbname=dbname,\n",
    "    user=user,\n",
    "    password=password\n",
    ")\n",
    "\n",
    "# Crear un cursor para interactuar con la base de datos\n",
    "cursor = connection.cursor()\n",
    "\n",
    "# Realizar una consulta (por ejemplo, obtener todas las tablas)\n",
    "cursor.execute(\"SELECT table_name FROM information_schema.tables WHERE table_schema = 'public';\")\n",
    "\n",
    "# Obtener los resultados\n",
    "tables = cursor.fetchall()\n",
    "\n",
    "# Mostrar las tablas\n",
    "print(tables)\n",
    "\n",
    "# Cerrar la conexión\n",
    "cursor.close()\n",
    "connection.close()"
   ]
  },
  {
   "cell_type": "code",
   "execution_count": 13,
   "id": "c56a4734-c36c-4ec6-99f5-bfc424f7fb3a",
   "metadata": {},
   "outputs": [
    {
     "data": {
      "text/html": [
       "<div>\n",
       "<style scoped>\n",
       "    .dataframe tbody tr th:only-of-type {\n",
       "        vertical-align: middle;\n",
       "    }\n",
       "\n",
       "    .dataframe tbody tr th {\n",
       "        vertical-align: top;\n",
       "    }\n",
       "\n",
       "    .dataframe thead th {\n",
       "        text-align: right;\n",
       "    }\n",
       "</style>\n",
       "<table border=\"1\" class=\"dataframe\">\n",
       "  <thead>\n",
       "    <tr style=\"text-align: right;\">\n",
       "      <th></th>\n",
       "      <th>id</th>\n",
       "      <th>fecha</th>\n",
       "      <th>consumo</th>\n",
       "      <th>medidor_id</th>\n",
       "    </tr>\n",
       "  </thead>\n",
       "  <tbody>\n",
       "    <tr>\n",
       "      <th>0</th>\n",
       "      <td>95651</td>\n",
       "      <td>2021-01-21 11:00:00+00:00</td>\n",
       "      <td>591.18</td>\n",
       "      <td>10</td>\n",
       "    </tr>\n",
       "    <tr>\n",
       "      <th>1</th>\n",
       "      <td>95652</td>\n",
       "      <td>2021-01-21 12:00:00+00:00</td>\n",
       "      <td>591.18</td>\n",
       "      <td>10</td>\n",
       "    </tr>\n",
       "    <tr>\n",
       "      <th>2</th>\n",
       "      <td>95653</td>\n",
       "      <td>2021-01-21 13:00:00+00:00</td>\n",
       "      <td>591.18</td>\n",
       "      <td>10</td>\n",
       "    </tr>\n",
       "    <tr>\n",
       "      <th>3</th>\n",
       "      <td>95654</td>\n",
       "      <td>2021-01-21 14:00:00+00:00</td>\n",
       "      <td>591.18</td>\n",
       "      <td>10</td>\n",
       "    </tr>\n",
       "    <tr>\n",
       "      <th>4</th>\n",
       "      <td>95655</td>\n",
       "      <td>2021-01-21 15:00:00+00:00</td>\n",
       "      <td>591.18</td>\n",
       "      <td>10</td>\n",
       "    </tr>\n",
       "  </tbody>\n",
       "</table>\n",
       "</div>"
      ],
      "text/plain": [
       "      id                     fecha  consumo  medidor_id\n",
       "0  95651 2021-01-21 11:00:00+00:00   591.18          10\n",
       "1  95652 2021-01-21 12:00:00+00:00   591.18          10\n",
       "2  95653 2021-01-21 13:00:00+00:00   591.18          10\n",
       "3  95654 2021-01-21 14:00:00+00:00   591.18          10\n",
       "4  95655 2021-01-21 15:00:00+00:00   591.18          10"
      ]
     },
     "execution_count": 13,
     "metadata": {},
     "output_type": "execute_result"
    }
   ],
   "source": [
    "from sqlalchemy import create_engine\n",
    "import pandas as pd\n",
    "\n",
    "# Datos de conexión\n",
    "host = 'localhost'  # Ejemplo: 'localhost' o la IP del servidor\n",
    "dbname = 'db'\n",
    "user = 'postgres'\n",
    "password = ''\n",
    "\n",
    "# Crear la cadena de conexión\n",
    "connection_string = f'postgresql://{user}:{password}@{host}/{dbname}'\n",
    "\n",
    "# Crear el motor de conexión\n",
    "engine = create_engine(connection_string)\n",
    "\n",
    "# Consultar la tabla 'core_consumo' y cargarla en un DataFrame\n",
    "query = \"SELECT * FROM core_consumo;\"\n",
    "df = pd.read_sql(query, engine)\n",
    "\n",
    "# Mostrar las primeras filas de la tabla\n",
    "df.head()"
   ]
  },
  {
   "cell_type": "code",
   "execution_count": null,
   "id": "907a513f-2c18-482d-aeed-dde493d39119",
   "metadata": {},
   "outputs": [],
   "source": []
  }
 ],
 "metadata": {
  "kernelspec": {
   "display_name": "Python 3 (ipykernel)",
   "language": "python",
   "name": "python3"
  },
  "language_info": {
   "codemirror_mode": {
    "name": "ipython",
    "version": 3
   },
   "file_extension": ".py",
   "mimetype": "text/x-python",
   "name": "python",
   "nbconvert_exporter": "python",
   "pygments_lexer": "ipython3",
   "version": "3.13.0"
  }
 },
 "nbformat": 4,
 "nbformat_minor": 5
}
