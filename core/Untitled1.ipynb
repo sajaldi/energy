{
 "cells": [
  {
   "cell_type": "code",
   "execution_count": 4,
   "id": "64974fa8-112f-4ecf-8ba1-4e36fdf3759f",
   "metadata": {},
   "outputs": [
    {
     "data": {
      "text/html": [
       "<div>\n",
       "<style scoped>\n",
       "    .dataframe tbody tr th:only-of-type {\n",
       "        vertical-align: middle;\n",
       "    }\n",
       "\n",
       "    .dataframe tbody tr th {\n",
       "        vertical-align: top;\n",
       "    }\n",
       "\n",
       "    .dataframe thead th {\n",
       "        text-align: right;\n",
       "    }\n",
       "</style>\n",
       "<table border=\"1\" class=\"dataframe\">\n",
       "  <thead>\n",
       "    <tr style=\"text-align: right;\">\n",
       "      <th></th>\n",
       "      <th>fecha</th>\n",
       "      <th>medidor_id</th>\n",
       "      <th>consumo</th>\n",
       "    </tr>\n",
       "  </thead>\n",
       "  <tbody>\n",
       "    <tr>\n",
       "      <th>0</th>\n",
       "      <td>2020-12-31 23:00:00+00:00</td>\n",
       "      <td>1</td>\n",
       "      <td>2376.00</td>\n",
       "    </tr>\n",
       "    <tr>\n",
       "      <th>1</th>\n",
       "      <td>2020-12-31 23:00:00+00:00</td>\n",
       "      <td>3</td>\n",
       "      <td>1575.00</td>\n",
       "    </tr>\n",
       "    <tr>\n",
       "      <th>2</th>\n",
       "      <td>2020-12-31 23:00:00+00:00</td>\n",
       "      <td>26</td>\n",
       "      <td>2575.00</td>\n",
       "    </tr>\n",
       "    <tr>\n",
       "      <th>3</th>\n",
       "      <td>2021-01-21 11:00:00+00:00</td>\n",
       "      <td>10</td>\n",
       "      <td>591.18</td>\n",
       "    </tr>\n",
       "    <tr>\n",
       "      <th>4</th>\n",
       "      <td>2021-01-21 12:00:00+00:00</td>\n",
       "      <td>10</td>\n",
       "      <td>591.18</td>\n",
       "    </tr>\n",
       "  </tbody>\n",
       "</table>\n",
       "</div>"
      ],
      "text/plain": [
       "                      fecha  medidor_id  consumo\n",
       "0 2020-12-31 23:00:00+00:00           1  2376.00\n",
       "1 2020-12-31 23:00:00+00:00           3  1575.00\n",
       "2 2020-12-31 23:00:00+00:00          26  2575.00\n",
       "3 2021-01-21 11:00:00+00:00          10   591.18\n",
       "4 2021-01-21 12:00:00+00:00          10   591.18"
      ]
     },
     "execution_count": 4,
     "metadata": {},
     "output_type": "execute_result"
    }
   ],
   "source": [
    "from sqlalchemy import create_engine\n",
    "import pandas as pd\n",
    "\n",
    "# Datos de conexión\n",
    "user = \"postgres\"\n",
    "password = \"\"\n",
    "host = \"localhost\"\n",
    "port = \"5432\"\n",
    "dbname = \"db\"\n",
    "\n",
    "# Crear el engine de conexión\n",
    "DATABASE_URL = f\"postgresql://{user}:{password}@{host}:{port}/{dbname}\"\n",
    "engine = create_engine(DATABASE_URL)\n",
    "\n",
    "# Leer los datos usando pandas sin warnings\n",
    "query = \"\"\"\n",
    "SELECT fecha, medidor_id, consumo\n",
    "FROM public.core_consumo\n",
    "ORDER BY fecha, medidor_id;\n",
    "\"\"\"\n",
    "df = pd.read_sql_query(query, engine)\n",
    "\n",
    "# Mostrar resultados\n",
    "df.head()"
   ]
  },
  {
   "cell_type": "code",
   "execution_count": null,
   "id": "08ec3fa8-69ac-458c-ae1f-658fd7284b0e",
   "metadata": {},
   "outputs": [],
   "source": []
  }
 ],
 "metadata": {
  "kernelspec": {
   "display_name": "Python 3 (ipykernel)",
   "language": "python",
   "name": "python3"
  },
  "language_info": {
   "codemirror_mode": {
    "name": "ipython",
    "version": 3
   },
   "file_extension": ".py",
   "mimetype": "text/x-python",
   "name": "python",
   "nbconvert_exporter": "python",
   "pygments_lexer": "ipython3",
   "version": "3.13.0"
  }
 },
 "nbformat": 4,
 "nbformat_minor": 5
}
